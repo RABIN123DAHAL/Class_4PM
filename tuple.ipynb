{
 "cells": [
  {
   "cell_type": "code",
   "execution_count": 1,
   "id": "cb91881c",
   "metadata": {},
   "outputs": [],
   "source": [
    "#tuple\n",
    "# Indexing\n",
    "# ordered\n",
    "# multiple and dupilcate data\n",
    "# Imuabale\n",
    "\n"
   ]
  },
  {
   "cell_type": "code",
   "execution_count": 4,
   "id": "bc29da10",
   "metadata": {},
   "outputs": [
    {
     "name": "stdout",
     "output_type": "stream",
     "text": [
      "(1, 2, 3, 4)\n",
      "('apple', 'ball', 'cat', 'dog')\n",
      "<class 'tuple'>\n",
      "<class 'tuple'>\n"
     ]
    }
   ],
   "source": [
    "a = (1,2,3,4)\n",
    "b= (\"apple\",\"ball\",\"cat\",\"dog\")\n",
    "print(a)\n",
    "print(b)\n",
    "print(type(a))\n",
    "print(type(b))"
   ]
  },
  {
   "cell_type": "code",
   "execution_count": 5,
   "id": "a7ac975c",
   "metadata": {},
   "outputs": [
    {
     "name": "stdout",
     "output_type": "stream",
     "text": [
      "apple\n"
     ]
    }
   ],
   "source": [
    "b=(\"apple\",\"ball\",\"cat\",\"dog\")\n",
    "print(b[0])"
   ]
  },
  {
   "cell_type": "code",
   "execution_count": 6,
   "id": "6ab815c5",
   "metadata": {},
   "outputs": [],
   "source": [
    "#no append()extend()insert()\n",
    "#no update \n",
    "#no del()pop()remove()\n",
    "#no sort\n"
   ]
  },
  {
   "cell_type": "code",
   "execution_count": 8,
   "id": "85ae15d5",
   "metadata": {},
   "outputs": [
    {
     "data": {
      "text/plain": [
       "tuple"
      ]
     },
     "execution_count": 8,
     "metadata": {},
     "output_type": "execute_result"
    }
   ],
   "source": [
    "a=(\"apple\",\"ball\")\n",
    "type(a)"
   ]
  },
  {
   "cell_type": "code",
   "execution_count": 9,
   "id": "83e50841",
   "metadata": {},
   "outputs": [
    {
     "name": "stdout",
     "output_type": "stream",
     "text": [
      "(1, 2, 3, 4, 5, 6)\n"
     ]
    }
   ],
   "source": [
    "a=(1,2,3)\n",
    "b=(4,5,6)\n",
    "c= a+b\n",
    "print(c)"
   ]
  },
  {
   "cell_type": "code",
   "execution_count": 10,
   "id": "13c22c6c",
   "metadata": {},
   "outputs": [
    {
     "name": "stdout",
     "output_type": "stream",
     "text": [
      "(1, 2, 3, 1, 2, 3)\n"
     ]
    }
   ],
   "source": [
    "a=(1,2,3)\n",
    "print(a*2)"
   ]
  },
  {
   "cell_type": "code",
   "execution_count": 17,
   "id": "3880389c",
   "metadata": {},
   "outputs": [
    {
     "name": "stdout",
     "output_type": "stream",
     "text": [
      "Enter = 3\n",
      "Enter x=1\n",
      "Enter x=2\n",
      "Enter x=3\n",
      "(1, 2, 3)\n"
     ]
    }
   ],
   "source": [
    "a=()\n",
    "n= int(input(\"Enter = \"))\n",
    "for i in range(n):\n",
    "    x=int(input(\"Enter x=\"))\n",
    "    a=a+(x,)\n",
    "print(a)"
   ]
  },
  {
   "cell_type": "markdown",
   "id": "3e958b16",
   "metadata": {},
   "source": [
    " a=(\"hello\")\n",
    " list(a)"
   ]
  },
  {
   "cell_type": "code",
   "execution_count": 18,
   "id": "881e7626",
   "metadata": {},
   "outputs": [
    {
     "data": {
      "text/plain": [
       "['h', 'e', 'l', 'l', 'o']"
      ]
     },
     "execution_count": 18,
     "metadata": {},
     "output_type": "execute_result"
    }
   ],
   "source": [
    "a=(\"hello\") \n",
    "list(a)"
   ]
  },
  {
   "cell_type": "code",
   "execution_count": 19,
   "id": "f07be2c4",
   "metadata": {},
   "outputs": [
    {
     "name": "stdout",
     "output_type": "stream",
     "text": [
      "122\n",
      "6\n",
      "610\n"
     ]
    }
   ],
   "source": [
    "#min() #max() #sum() #index()\n",
    "a= (234,123,122,131)\n",
    "print(min(a))\n",
    "print(max(b))\n",
    "print(sum(a))"
   ]
  },
  {
   "cell_type": "code",
   "execution_count": 23,
   "id": "e9139134",
   "metadata": {},
   "outputs": [
    {
     "data": {
      "text/plain": [
       "[2, 3]"
      ]
     },
     "execution_count": 23,
     "metadata": {},
     "output_type": "execute_result"
    }
   ],
   "source": [
    "a= (1,2,3)\n",
    "b=list(a)\n",
    "del b[0]\n",
    "b"
   ]
  },
  {
   "cell_type": "code",
   "execution_count": 24,
   "id": "7037752d",
   "metadata": {},
   "outputs": [
    {
     "data": {
      "text/plain": [
       "(2, 3)"
      ]
     },
     "execution_count": 24,
     "metadata": {},
     "output_type": "execute_result"
    }
   ],
   "source": [
    "a=tuple(b)\n",
    "a"
   ]
  },
  {
   "cell_type": "code",
   "execution_count": 26,
   "id": "12bfbe56",
   "metadata": {},
   "outputs": [
    {
     "data": {
      "text/plain": [
       "(('ram', 34, 'jhapa'), ('shyam', 23, 'kathmandu'), ('hari', 22, 'morang'))"
      ]
     },
     "execution_count": 26,
     "metadata": {},
     "output_type": "execute_result"
    }
   ],
   "source": [
    "a = ((\"ram\",34,\"jhapa\"),\n",
    "    (\"shyam\",23,\"kathmandu\"),\n",
    "    (\"hari\",22,\"morang\"))\n",
    "a"
   ]
  },
  {
   "cell_type": "code",
   "execution_count": null,
   "id": "4585e2e8",
   "metadata": {},
   "outputs": [],
   "source": [
    "a=()\n",
    "n= int(input(\"Enter = \"))\n",
    "for i in range(n):\n",
    "    name=input()"
   ]
  }
 ],
 "metadata": {
  "kernelspec": {
   "display_name": "Python 3 (ipykernel)",
   "language": "python",
   "name": "python3"
  },
  "language_info": {
   "codemirror_mode": {
    "name": "ipython",
    "version": 3
   },
   "file_extension": ".py",
   "mimetype": "text/x-python",
   "name": "python",
   "nbconvert_exporter": "python",
   "pygments_lexer": "ipython3",
   "version": "3.11.5"
  }
 },
 "nbformat": 4,
 "nbformat_minor": 5
}
