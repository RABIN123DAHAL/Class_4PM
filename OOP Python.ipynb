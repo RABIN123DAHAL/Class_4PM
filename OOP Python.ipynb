{
 "cells": [
  {
   "cell_type": "code",
   "execution_count": 4,
   "id": "9a8e6246",
   "metadata": {},
   "outputs": [
    {
     "name": "stdout",
     "output_type": "stream",
     "text": [
      "hello world\n"
     ]
    }
   ],
   "source": [
    "class Hello:#####class\n",
    "    print(\"hello world\")\n",
    "obj=Hello()   ####Object "
   ]
  },
  {
   "cell_type": "code",
   "execution_count": 27,
   "id": "8d9e5438",
   "metadata": {},
   "outputs": [
    {
     "name": "stdout",
     "output_type": "stream",
     "text": [
      "Hello world\n"
     ]
    }
   ],
   "source": [
    "class Hello:\n",
    "    def Hello(self):\n",
    "        print(\"Hello world\")\n",
    "obj=Hello()\n",
    "obj.Hello()\n"
   ]
  },
  {
   "cell_type": "code",
   "execution_count": 1,
   "id": "db5cccb1",
   "metadata": {},
   "outputs": [
    {
     "ename": "NameError",
     "evalue": "name 'Staticmethod' is not defined",
     "output_type": "error",
     "traceback": [
      "\u001b[1;31m---------------------------------------------------------------------------\u001b[0m",
      "\u001b[1;31mNameError\u001b[0m                                 Traceback (most recent call last)",
      "Cell \u001b[1;32mIn[1], line 1\u001b[0m\n\u001b[1;32m----> 1\u001b[0m \u001b[38;5;28;01mclass\u001b[39;00m \u001b[38;5;21;01mHello\u001b[39;00m:\n\u001b[0;32m      2\u001b[0m     \u001b[38;5;129m@Staticmethod\u001b[39m\n\u001b[0;32m      3\u001b[0m     \u001b[38;5;28;01mdef\u001b[39;00m \u001b[38;5;21mHello\u001b[39m():\n\u001b[0;32m      4\u001b[0m         \u001b[38;5;28mprint\u001b[39m(\u001b[38;5;124m\"\u001b[39m\u001b[38;5;124mHello world\u001b[39m\u001b[38;5;124m\"\u001b[39m)\n",
      "Cell \u001b[1;32mIn[1], line 2\u001b[0m, in \u001b[0;36mHello\u001b[1;34m()\u001b[0m\n\u001b[0;32m      1\u001b[0m \u001b[38;5;28;01mclass\u001b[39;00m \u001b[38;5;21;01mHello\u001b[39;00m:\n\u001b[1;32m----> 2\u001b[0m     \u001b[38;5;129m@Staticmethod\u001b[39m\n\u001b[0;32m      3\u001b[0m     \u001b[38;5;28;01mdef\u001b[39;00m \u001b[38;5;21mHello\u001b[39m():\n\u001b[0;32m      4\u001b[0m         \u001b[38;5;28mprint\u001b[39m(\u001b[38;5;124m\"\u001b[39m\u001b[38;5;124mHello world\u001b[39m\u001b[38;5;124m\"\u001b[39m)\n",
      "\u001b[1;31mNameError\u001b[0m: name 'Staticmethod' is not defined"
     ]
    }
   ],
   "source": [
    "class Hello:\n",
    "    @Staticmethod\n",
    "    def Hello():\n",
    "        print(\"Hello world\")\n",
    "        \n",
    "obj=Hello()\n",
    "obj.Hello()\n"
   ]
  },
  {
   "cell_type": "code",
   "execution_count": 25,
   "id": "f41d928b",
   "metadata": {},
   "outputs": [
    {
     "name": "stdout",
     "output_type": "stream",
     "text": [
      "hello i am Ram. i am form Kathmandu. i am 24\n"
     ]
    }
   ],
   "source": [
    "class info:\n",
    "    def __init__(self):\n",
    "        self.name=\"Ram\"\n",
    "        self.age=24\n",
    "        self.add=\"Kathmandu\"\n",
    "        \n",
    "    def info(self):\n",
    "        print(f\"hello i am {self.name}. i am form {self.add}. i am {self.age}\")\n",
    "        \n",
    "obj=info()\n",
    "obj.info()"
   ]
  },
  {
   "cell_type": "code",
   "execution_count": 18,
   "id": "55d531f1",
   "metadata": {},
   "outputs": [
    {
     "name": "stdout",
     "output_type": "stream",
     "text": [
      "Enter name=hari\n",
      "Enter age=52\n",
      "Enter add=kathmandu\n",
      "hello i am hari. i am form kathmandu. i am 52\n"
     ]
    }
   ],
   "source": [
    "class info:\n",
    "    def __init__(self,name,age,add):\n",
    "        self.name=name\n",
    "        self.age=age\n",
    "        self.add=add\n",
    "        \n",
    "    def info(self):\n",
    "        print(f\"hello i am {self.name}. i am form {self.add}. i am {self.age}\")\n",
    "        \n",
    "name= input(\"Enter name=\")\n",
    "age=int(input(\"Enter age=\"))\n",
    "add=input(\"Enter add=\")\n",
    "obj=info(name,age,add)\n",
    "obj.info()"
   ]
  },
  {
   "cell_type": "code",
   "execution_count": 31,
   "id": "15d06e43",
   "metadata": {},
   "outputs": [
    {
     "name": "stdout",
     "output_type": "stream",
     "text": [
      "Ram\n",
      "<class '__main__.info'>\n"
     ]
    }
   ],
   "source": [
    "class info:\n",
    "    def __init__(self):\n",
    "        self.name=\"Ram\"\n",
    "        self.age=24\n",
    "        self.add=\"Kathmandu\"\n",
    "        \n",
    "    def __str__(self):\n",
    "        return self.name\n",
    "obj=info()\n",
    "print(obj)\n",
    "print(type(obj))"
   ]
  },
  {
   "cell_type": "code",
   "execution_count": 37,
   "id": "ec42e2e2",
   "metadata": {},
   "outputs": [
    {
     "name": "stdout",
     "output_type": "stream",
     "text": [
      "50\n",
      "1560\n"
     ]
    }
   ],
   "source": [
    "class Area:\n",
    "    def __init__(self,l,b):\n",
    "        self.l=l\n",
    "        self.b=b\n",
    "    def area(self):\n",
    "            a=self.l*self.b\n",
    "            print(a)\n",
    "class volume:\n",
    "    def __init__(self,l,b,h):\n",
    "        self.l=l\n",
    "        self.b=b\n",
    "        self.h=h\n",
    "    def volume(self):\n",
    "            v=self.l*self.b*self.h\n",
    "            print(v)\n",
    "            \n",
    "obj1=Area(10,5)\n",
    "obj2=volume(10,12,13)\n",
    "obj1.area()\n",
    "obj2.volume()\n",
    "            \n",
    "            "
   ]
  },
  {
   "cell_type": "code",
   "execution_count": 5,
   "id": "76404527",
   "metadata": {},
   "outputs": [
    {
     "name": "stdout",
     "output_type": "stream",
     "text": [
      "Hello world i am Ram. i am from kathmandu. i am 23\n"
     ]
    }
   ],
   "source": [
    "class Data:\n",
    "    def __init__(self):\n",
    "        self.name='Ram'\n",
    "        self.age=23\n",
    "        self.add='kathmandu'\n",
    "        \n",
    "class Info(Data):\n",
    "    def info(self):\n",
    "        print(f\"Hello world i am {self.name}. i am from {self.add}. i am {self.age}\")\n",
    "        \n",
    "obj=Info()\n",
    "obj.info()"
   ]
  },
  {
   "cell_type": "code",
   "execution_count": 7,
   "id": "d4461b97",
   "metadata": {},
   "outputs": [
    {
     "name": "stdout",
     "output_type": "stream",
     "text": [
      "Hello world i am ram. i am from kathmandu. i am 23\n"
     ]
    }
   ],
   "source": [
    "class Data:\n",
    "    def __init__(self,name,age,add):\n",
    "        self.name=name\n",
    "        self.age=age\n",
    "        self.add=add\n",
    "        \n",
    "class Info(Data):\n",
    "    def info(self):\n",
    "        print(f\"Hello world i am {self.name}. i am from {self.add}. i am {self.age}\")\n",
    "        \n",
    "obj=Info('ram',23,'kathmandu')\n",
    "obj.info()"
   ]
  },
  {
   "cell_type": "code",
   "execution_count": 8,
   "id": "1d5845b4",
   "metadata": {},
   "outputs": [
    {
     "name": "stdout",
     "output_type": "stream",
     "text": [
      "Hello world i am ram. i am from kathmandu. i am 23\n"
     ]
    }
   ],
   "source": [
    "class Data:\n",
    "    def __init__(self,age):\n",
    "        self.age=age\n",
    "    \n",
    "        \n",
    "class Info(Data):\n",
    "    def __init__(self,name,age,add):\n",
    "        self.name=name\n",
    "        self.add=add\n",
    "        Data.__init__(self,age)\n",
    "    def info(self):\n",
    "        print(f\"Hello world i am {self.name}. i am from {self.add}. i am {self.age}\")\n",
    "        \n",
    "obj=Info('ram',23,'kathmandu')\n",
    "obj.info()"
   ]
  },
  {
   "cell_type": "code",
   "execution_count": 9,
   "id": "7e35cff9",
   "metadata": {},
   "outputs": [],
   "source": [
    "class A:\n",
    "    pass\n",
    "class B:\n",
    "    pass\n",
    "class C:\n",
    "    pass\n",
    "\n",
    "obj = C()\n"
   ]
  },
  {
   "cell_type": "code",
   "execution_count": 20,
   "id": "c9f6c7b7",
   "metadata": {},
   "outputs": [
    {
     "name": "stdout",
     "output_type": "stream",
     "text": [
      "hello. mero nam rabin ho . mah makalbari ma basxu. mah aaile 24 ko vaye\n"
     ]
    }
   ],
   "source": [
    "class Address:\n",
    "    def __init__(self,add):\n",
    "        self.add=add\n",
    "        \n",
    "class Data(Address):\n",
    "    def __init__(self,age,add):\n",
    "        self.age=age\n",
    "        Address.__init__(self,add)\n",
    "        \n",
    "class Info(Data):\n",
    "    def __init__(self,name,age,add):\n",
    "        self.name=name\n",
    "        Data.__init__(self,age,add)\n",
    "        \n",
    "    def info(self):\n",
    "        print(f\"hello. mero nam {self.name} ho . mah {self.add} ma basxu. mah aaile {self.age} ko vaye\")\n",
    "        \n",
    "obj=Info(\"rabin\",24,\"makalbari\")\n",
    "obj.info()\n"
   ]
  },
  {
   "cell_type": "code",
   "execution_count": 37,
   "id": "23a932a5",
   "metadata": {},
   "outputs": [
    {
     "name": "stdout",
     "output_type": "stream",
     "text": [
      "Hello world i am ram. i am 23\n",
      "i am from kathmandu\n",
      "23\n",
      "kathmandu\n"
     ]
    }
   ],
   "source": [
    "# public\n",
    "class Data:\n",
    "    def __init__(self,name,age,add):\n",
    "        self.name=name #public members\n",
    "        self._age=age  #protected members \n",
    "        self.__add=add  #private members \n",
    "    def data(self):\n",
    "        print(f\"i am from {self.__add}\")\n",
    "        \n",
    "class Info(Data):\n",
    "    def info(self):\n",
    "        print(f\"Hello world i am {self.name}. i am {self._age}\")\n",
    "        \n",
    "obj=Info('ram',23,'kathmandu')\n",
    "obj.info()\n",
    "obj.data()\n",
    "print(obj._age)   ##protected access\n",
    "print(obj._Data__add)   ##privately access"
   ]
  },
  {
   "cell_type": "code",
   "execution_count": null,
   "id": "79f380a6",
   "metadata": {},
   "outputs": [],
   "source": []
  }
 ],
 "metadata": {
  "kernelspec": {
   "display_name": "Python 3 (ipykernel)",
   "language": "python",
   "name": "python3"
  },
  "language_info": {
   "codemirror_mode": {
    "name": "ipython",
    "version": 3
   },
   "file_extension": ".py",
   "mimetype": "text/x-python",
   "name": "python",
   "nbconvert_exporter": "python",
   "pygments_lexer": "ipython3",
   "version": "3.11.5"
  }
 },
 "nbformat": 4,
 "nbformat_minor": 5
}
