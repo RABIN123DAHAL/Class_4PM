{
 "cells": [
  {
   "cell_type": "code",
   "execution_count": null,
   "id": "6c555f01",
   "metadata": {},
   "outputs": [],
   "source": [
    "#def<function_name>():\n",
    "#<operations>\n",
    "#function_name()"
   ]
  },
  {
   "cell_type": "code",
   "execution_count": 1,
   "id": "67552a0d",
   "metadata": {},
   "outputs": [],
   "source": [
    "# print() int() float() str() set() list() dict() input() type()"
   ]
  },
  {
   "cell_type": "code",
   "execution_count": 2,
   "id": "a69accf7",
   "metadata": {},
   "outputs": [
    {
     "name": "stdout",
     "output_type": "stream",
     "text": [
      "hello world\n"
     ]
    }
   ],
   "source": [
    "def hello():\n",
    "    print(\"hello world\")\n",
    "    \n",
    "hello()"
   ]
  },
  {
   "cell_type": "code",
   "execution_count": 3,
   "id": "91f9f9a2",
   "metadata": {},
   "outputs": [
    {
     "name": "stdout",
     "output_type": "stream",
     "text": [
      "Enter l=10\n",
      "Enter b=20\n",
      "200\n"
     ]
    }
   ],
   "source": [
    "def cal():\n",
    "    l=int(input(\"Enter l=\")) # local variable\n",
    "    b=int(input(\"Enter b=\")) # local variable\n",
    "    a=l*b\n",
    "    print(a)\n",
    "cal()    "
   ]
  },
  {
   "cell_type": "code",
   "execution_count": 4,
   "id": "a6561778",
   "metadata": {},
   "outputs": [
    {
     "name": "stdout",
     "output_type": "stream",
     "text": [
      "Enter l=29\n",
      "Enter b=22\n",
      "638\n"
     ]
    }
   ],
   "source": [
    "l=int(input(\"Enter l=\")) # global variable\n",
    "b=int(input(\"Enter b=\")) # global variable\n",
    "def cal():\n",
    "   \n",
    "    a=l*b\n",
    "    print(a)\n",
    "cal()    "
   ]
  },
  {
   "cell_type": "code",
   "execution_count": 6,
   "id": "a4d23925",
   "metadata": {},
   "outputs": [],
   "source": [
    "#function without argument and no return  type\n",
    "#function with argument and no return type\n",
    "#function  without argument and return type\n",
    "#function with argument and return type"
   ]
  },
  {
   "cell_type": "code",
   "execution_count": 8,
   "id": "979e01b6",
   "metadata": {},
   "outputs": [
    {
     "name": "stdout",
     "output_type": "stream",
     "text": [
      "10\n"
     ]
    }
   ],
   "source": [
    "# function with argument and no return type \n",
    "def cal(l,b):   # l,b is parameter\n",
    "    a=l*b\n",
    "    print(a)\n",
    "cal(5,2)    # 5,2 is argument"
   ]
  },
  {
   "cell_type": "code",
   "execution_count": 11,
   "id": "1239bf59",
   "metadata": {},
   "outputs": [
    {
     "name": "stdout",
     "output_type": "stream",
     "text": [
      "Enter name=rabion\n",
      "Enter age=22\n",
      "Enter address=22\n",
      "hello world i am rabion. i am form 22. i am 22\n"
     ]
    }
   ],
   "source": [
    "# function with argument and no return type\n",
    "def info(x,y,z):\n",
    "    print(f\"hello world i am {x}. i am form {z}. i am {y}\")\n",
    "name=input(\"Enter name=\")\n",
    "age=int(input(\"Enter age=\"))\n",
    "add=input(\"Enter address=\")\n",
    "info(name,age,add)"
   ]
  },
  {
   "cell_type": "code",
   "execution_count": 25,
   "id": "3f2290d1",
   "metadata": {},
   "outputs": [
    {
     "ename": "SyntaxError",
     "evalue": "invalid syntax (2314319794.py, line 2)",
     "output_type": "error",
     "traceback": [
      "\u001b[1;36m  Cell \u001b[1;32mIn[25], line 2\u001b[1;36m\u001b[0m\n\u001b[1;33m    if [o ==\"+\":\u001b[0m\n\u001b[1;37m               ^\u001b[0m\n\u001b[1;31mSyntaxError\u001b[0m\u001b[1;31m:\u001b[0m invalid syntax\n"
     ]
    }
   ],
   "source": [
    "def cal(a,b,o):\n",
    "    if o ==\"+\":\n",
    "    print(a+b)\n",
    "    elif o==\"-\":\n",
    "    print(a-b)\n",
    "    elif o==\"*\":\n",
    "    print(a*b)\n",
    "    elif o==\"/\" and b!=0:\n",
    "    print(a/b)\n",
    "    elif o==\"/\" and b == 0:\n",
    "    print(\"the value of b can not ne zero.\")\n",
    "    else:\n",
    "    print(\"Enter valid operator\") \n",
    "a=int(input(\"Enter a=\"))\n",
    "b=int(input(\"Enter b=\"))\n",
    "o=input(\"Enter + or - or * or /\")\n",
    "cal(a,b,o)"
   ]
  },
  {
   "cell_type": "code",
   "execution_count": 27,
   "id": "d1d4eba4",
   "metadata": {},
   "outputs": [
    {
     "name": "stdout",
     "output_type": "stream",
     "text": [
      "c\n",
      "c++\n",
      "c#\n",
      "java\n",
      "python\n"
     ]
    }
   ],
   "source": [
    "def language(lan= \"python\"):\n",
    "    print(lan)\n",
    "language(\"c\")\n",
    "language(\"c++\")\n",
    "language(\"c#\")\n",
    "language(\"java\")\n",
    "language()"
   ]
  },
  {
   "cell_type": "code",
   "execution_count": 29,
   "id": "bba2da42",
   "metadata": {},
   "outputs": [
    {
     "name": "stdout",
     "output_type": "stream",
     "text": [
      "15\n",
      "10\n"
     ]
    }
   ],
   "source": [
    "def area(l,b=2):\n",
    "    a=l*b\n",
    "    print(a)\n",
    "area(5,3)\n",
    "area(5)"
   ]
  },
  {
   "cell_type": "code",
   "execution_count": 35,
   "id": "b8897d5f",
   "metadata": {},
   "outputs": [
    {
     "name": "stdout",
     "output_type": "stream",
     "text": [
      "20\n"
     ]
    }
   ],
   "source": [
    "# return type function \n",
    "def area(l,b):\n",
    "    a=l*b\n",
    "    return a\n",
    "ar =area(5,2)\n",
    "h=2\n",
    "v=h*ar\n",
    "print(v)"
   ]
  },
  {
   "cell_type": "code",
   "execution_count": null,
   "id": "4969383c",
   "metadata": {},
   "outputs": [],
   "source": []
  }
 ],
 "metadata": {
  "kernelspec": {
   "display_name": "Python 3 (ipykernel)",
   "language": "python",
   "name": "python3"
  },
  "language_info": {
   "codemirror_mode": {
    "name": "ipython",
    "version": 3
   },
   "file_extension": ".py",
   "mimetype": "text/x-python",
   "name": "python",
   "nbconvert_exporter": "python",
   "pygments_lexer": "ipython3",
   "version": "3.11.5"
  }
 },
 "nbformat": 4,
 "nbformat_minor": 5
}
