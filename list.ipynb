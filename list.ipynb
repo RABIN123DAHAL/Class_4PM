{
 "cells": [
  {
   "cell_type": "code",
   "execution_count": 1,
   "id": "936ea9d2",
   "metadata": {},
   "outputs": [],
   "source": [
    "# python collection \n",
    "# list\n",
    "# tuple\n",
    "# dict\n",
    "# set\n",
    "\n"
   ]
  },
  {
   "cell_type": "code",
   "execution_count": 2,
   "id": "b38e87f7",
   "metadata": {},
   "outputs": [],
   "source": [
    "# list\n",
    "# -indexing\n",
    "# - ordered\n",
    "# -multiple and duplicate data\n",
    "# -mutable"
   ]
  },
  {
   "cell_type": "code",
   "execution_count": 3,
   "id": "1f2944b4",
   "metadata": {},
   "outputs": [
    {
     "name": "stdout",
     "output_type": "stream",
     "text": [
      "<class 'list'>\n",
      "<class 'list'>\n"
     ]
    }
   ],
   "source": [
    "# l = list()\n",
    "l = [1,2,3,4,5,6,7,8,9,10]\n",
    "a = [\"apple\",\"ball\",\"cat\",\"dog\",\"fish\"]\n",
    "print(type(l))\n",
    "print(type(a))"
   ]
  },
  {
   "cell_type": "code",
   "execution_count": 5,
   "id": "0af66c26",
   "metadata": {},
   "outputs": [
    {
     "name": "stdout",
     "output_type": "stream",
     "text": [
      "apple\n",
      "['apple', 'ball', 'cat', 'dog', 'fish']\n",
      "['apple', 'cat', 'fish']\n"
     ]
    }
   ],
   "source": [
    "a = [\"apple\",\"ball\",\"cat\",\"dog\",\"fish\"]\n",
    "print(a[0])\n",
    "print(a[0:5])\n",
    "print(a[0:5:2])"
   ]
  },
  {
   "cell_type": "code",
   "execution_count": 6,
   "id": "60ddd1c4",
   "metadata": {},
   "outputs": [
    {
     "name": "stdout",
     "output_type": "stream",
     "text": [
      "5\n"
     ]
    }
   ],
   "source": [
    "a = [\"apple\",\"ball\",\"cat\",\"dog\",\"fish\"]\n",
    "print(len(a))"
   ]
  },
  {
   "cell_type": "code",
   "execution_count": 7,
   "id": "9d8a1387",
   "metadata": {},
   "outputs": [
    {
     "name": "stdout",
     "output_type": "stream",
     "text": [
      "['apple', 'ball', 'cat', 'dog', 'fish', 'apple', 'ball', 'cat', 'dog', 'fish']\n"
     ]
    }
   ],
   "source": [
    "a = [\"apple\",\"ball\",\"cat\",\"dog\",\"fish\"]\n",
    "print(a*2)"
   ]
  },
  {
   "cell_type": "code",
   "execution_count": 9,
   "id": "c2b81211",
   "metadata": {},
   "outputs": [
    {
     "name": "stdout",
     "output_type": "stream",
     "text": [
      "apple\n",
      "ball\n",
      "cat\n",
      "dog\n",
      "fish\n"
     ]
    }
   ],
   "source": [
    "a = [\"apple\",\"ball\",\"cat\",\"dog\",\"fish\"]\n",
    "for i in a:\n",
    "    print(i)"
   ]
  },
  {
   "cell_type": "code",
   "execution_count": 15,
   "id": "2c4132ca",
   "metadata": {},
   "outputs": [
    {
     "data": {
      "text/plain": [
       "['apple', 'ball']"
      ]
     },
     "execution_count": 15,
     "metadata": {},
     "output_type": "execute_result"
    }
   ],
   "source": [
    "# append() insert() extend()\n",
    "a = []\n",
    "a.append(\"apple\")\n",
    "a.append(\"ball\")\n",
    "a"
   ]
  },
  {
   "cell_type": "code",
   "execution_count": 16,
   "id": "3922c014",
   "metadata": {},
   "outputs": [
    {
     "data": {
      "text/plain": [
       "['apple', 'bat', 'ball', 'cat', 'dog', 'fish']"
      ]
     },
     "execution_count": 16,
     "metadata": {},
     "output_type": "execute_result"
    }
   ],
   "source": [
    "# insert()\n",
    "a = [\"apple\",\"ball\",\"cat\",\"dog\",\"fish\"]\n",
    "a.insert(1,\"bat\")\n",
    "a"
   ]
  },
  {
   "cell_type": "code",
   "execution_count": 17,
   "id": "2ec6ceda",
   "metadata": {},
   "outputs": [
    {
     "name": "stdout",
     "output_type": "stream",
     "text": [
      "['apple', 'ball', 'cat', 'dog', 'fish', 1, 2, 3]\n"
     ]
    }
   ],
   "source": [
    "# extend()\n",
    "a = [\"apple\",\"ball\",\"cat\",\"dog\",\"fish\"]\n",
    "b = [1,2,3]\n",
    "a.extend(b)\n",
    "print(a)"
   ]
  },
  {
   "cell_type": "code",
   "execution_count": 19,
   "id": "d6d44463",
   "metadata": {},
   "outputs": [
    {
     "name": "stdout",
     "output_type": "stream",
     "text": [
      "Enter n =3\n",
      "Enter x =12\n",
      "Enter x =14\n",
      "Enter x =15\n",
      "[12, 14, 15]\n"
     ]
    }
   ],
   "source": [
    "l = []\n",
    "n= int(input(\"Enter n =\"))\n",
    "for i in range(n):\n",
    "    x = int(input(\"Enter x =\"))\n",
    "    l.append(x)\n",
    "print(l)"
   ]
  },
  {
   "cell_type": "code",
   "execution_count": 20,
   "id": "826c2e68",
   "metadata": {},
   "outputs": [
    {
     "name": "stdout",
     "output_type": "stream",
     "text": [
      "max value= 15\n"
     ]
    }
   ],
   "source": [
    "print(\"max value=\",max(l))"
   ]
  },
  {
   "cell_type": "code",
   "execution_count": 25,
   "id": "835b6ea7",
   "metadata": {},
   "outputs": [
    {
     "data": {
      "text/plain": [
       "['apple', 'ball', 'cat', 'dog', 'egg', 'fish']"
      ]
     },
     "execution_count": 25,
     "metadata": {},
     "output_type": "execute_result"
    }
   ],
   "source": [
    "a = [ \"apple\",\"fish\",\"ball\",\"cat\",\"dog\",\"egg\"]\n",
    "a.sort()\n",
    "a"
   ]
  },
  {
   "cell_type": "code",
   "execution_count": 31,
   "id": "a942e8d7",
   "metadata": {},
   "outputs": [
    {
     "data": {
      "text/plain": [
       "['BALL', 'CAT', 'ball', 'cat', 'dog', 'egg']"
      ]
     },
     "execution_count": 31,
     "metadata": {},
     "output_type": "execute_result"
    }
   ],
   "source": [
    "a = [ \"apple\",\"fish\",\"ball\",\"cat\",\"dog\",\"egg\"]\n",
    "a[0:2]= [\"BALL\",\"CAT\"]\n",
    "a"
   ]
  },
  {
   "cell_type": "code",
   "execution_count": 30,
   "id": "54803b09",
   "metadata": {},
   "outputs": [
    {
     "data": {
      "text/plain": [
       "['BALL', 'CAT', 'ball', 'cat', 'dog', 'egg']"
      ]
     },
     "execution_count": 30,
     "metadata": {},
     "output_type": "execute_result"
    }
   ],
   "source": [
    "a = [ \"apple\",\"fish\",\"ball\",\"cat\",\"dog\",\"egg\"]\n",
    "a[0:2] = [\"BALL\",\"CAT\"]\n",
    "a"
   ]
  },
  {
   "cell_type": "code",
   "execution_count": 32,
   "id": "b6851e56",
   "metadata": {},
   "outputs": [
    {
     "data": {
      "text/plain": [
       "['fish', 'ball', 'cat', 'dog', 'egg']"
      ]
     },
     "execution_count": 32,
     "metadata": {},
     "output_type": "execute_result"
    }
   ],
   "source": [
    "# delete\n",
    "# del() remove() pop()\n",
    "a = [ \"apple\",\"fish\",\"ball\",\"cat\",\"dog\",\"egg\"]\n",
    "del a[0]\n",
    "a"
   ]
  },
  {
   "cell_type": "code",
   "execution_count": 38,
   "id": "a7f303e8",
   "metadata": {},
   "outputs": [
    {
     "data": {
      "text/plain": [
       "['cat']"
      ]
     },
     "execution_count": 38,
     "metadata": {},
     "output_type": "execute_result"
    }
   ],
   "source": [
    "a =[\"ball\",\"cat\"]\n",
    "a.remove(\"ball\")\n",
    "a"
   ]
  },
  {
   "cell_type": "code",
   "execution_count": 39,
   "id": "3623457d",
   "metadata": {},
   "outputs": [
    {
     "name": "stdout",
     "output_type": "stream",
     "text": [
      "['fish', 'ball', 'cat', 'dog', 'egg']\n",
      "apple\n"
     ]
    }
   ],
   "source": [
    "#pop()\n",
    "a = [\"apple\",\"fish\",\"ball\",\"cat\",\"dog\",\"egg\"]\n",
    "b = a.pop(0)\n",
    "print(a)\n",
    "print(b)"
   ]
  },
  {
   "cell_type": "code",
   "execution_count": 43,
   "id": "3c21d150",
   "metadata": {},
   "outputs": [
    {
     "data": {
      "text/plain": [
       "[]"
      ]
     },
     "execution_count": 43,
     "metadata": {},
     "output_type": "execute_result"
    }
   ],
   "source": [
    "a = [ \"apple\",\"fish\",\"ball\",\"cat\",\"dog\",\"egg\"]\n",
    "a.clear()\n",
    "a\n"
   ]
  },
  {
   "cell_type": "code",
   "execution_count": 11,
   "id": "d0b782c1",
   "metadata": {},
   "outputs": [
    {
     "name": "stdout",
     "output_type": "stream",
     "text": [
      "Enter n=2\n",
      "Enter name=rabin\n",
      "Enter age=29\n",
      "Enter add=22\n",
      "Enter name=rabin\n",
      "Enter age=22\n",
      "Enter add=28\n",
      "[['rabin', 29, '22'], ['rabin', 22, '28']]\n"
     ]
    }
   ],
   "source": [
    "l=[]\n",
    "n= int(input(\"Enter n=\"))\n",
    "for i in range(n):\n",
    "    name=input(\"Enter name=\")\n",
    "    age=int(input(\"Enter age=\"))\n",
    "    add=input(\"Enter add=\")\n",
    "    l.append([name,age,add])\n",
    "    \n",
    "    \n",
    "print(l)    "
   ]
  },
  {
   "cell_type": "code",
   "execution_count": 24,
   "id": "d5f668ef",
   "metadata": {},
   "outputs": [
    {
     "data": {
      "text/plain": [
       "[['ram', 34, 'kathmandu'],\n",
       " ['shyam', 45, 'bhaktapuar'],\n",
       " ['hari', 34, 'lalitpur']]"
      ]
     },
     "execution_count": 24,
     "metadata": {},
     "output_type": "execute_result"
    }
   ],
   "source": [
    "a=[[\"ram\",34,\"kathmandu\"],\n",
    " [\"shyam\",45,\"bhaktapuar\"],\n",
    " [\"hari\",34,\"lalitpur\"]]\n",
    "a\n"
   ]
  },
  {
   "cell_type": "code",
   "execution_count": 21,
   "id": "cad0b415",
   "metadata": {},
   "outputs": [
    {
     "name": "stdout",
     "output_type": "stream",
     "text": [
      "Enter name=ram\n",
      "['ram', 34, 'kathmandu']\n"
     ]
    }
   ],
   "source": [
    "# search \n",
    "a = [['ram',34,'kathmandu'],\n",
    "    ['shyam',45,'bhaktapur'],\n",
    "    ['hari',34,'lalitpur']]\n",
    "name = input(\"Enter name=\")\n",
    "for i in a:\n",
    "    if name in i:\n",
    "        print(i)"
   ]
  },
  {
   "cell_type": "code",
   "execution_count": 25,
   "id": "cdb10f74",
   "metadata": {},
   "outputs": [
    {
     "name": "stdout",
     "output_type": "stream",
     "text": [
      "Enter add=jhapa\n"
     ]
    },
    {
     "data": {
      "text/plain": [
       "[['ram', 34, 'jhapa'], ['shyam', 45, 'bhaktapur'], ['hari', 34, 'lalitpur']]"
      ]
     },
     "execution_count": 25,
     "metadata": {},
     "output_type": "execute_result"
    }
   ],
   "source": [
    "a = [['ram',34,'kathmandu'],\n",
    "    ['shyam',45,'bhaktapur'],\n",
    "    ['hari',34,'lalitpur']]\n",
    "#add=input(\"Enter add=\")\n",
    "a[0][2]= input(\"Enter add=\")\n",
    "a "
   ]
  },
  {
   "cell_type": "code",
   "execution_count": null,
   "id": "809cf230",
   "metadata": {},
   "outputs": [],
   "source": []
  }
 ],
 "metadata": {
  "kernelspec": {
   "display_name": "Python 3 (ipykernel)",
   "language": "python",
   "name": "python3"
  },
  "language_info": {
   "codemirror_mode": {
    "name": "ipython",
    "version": 3
   },
   "file_extension": ".py",
   "mimetype": "text/x-python",
   "name": "python",
   "nbconvert_exporter": "python",
   "pygments_lexer": "ipython3",
   "version": "3.11.5"
  }
 },
 "nbformat": 4,
 "nbformat_minor": 5
}
