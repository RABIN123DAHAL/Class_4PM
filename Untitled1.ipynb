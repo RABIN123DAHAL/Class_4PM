{
 "cells": [
  {
   "cell_type": "code",
   "execution_count": 9,
   "id": "e0322d89",
   "metadata": {},
   "outputs": [
    {
     "name": "stdout",
     "output_type": "stream",
     "text": [
      "6.777777777777778\n",
      "15.571428571428571\n"
     ]
    }
   ],
   "source": [
    "x=[2,3,4,5,6,7,8,11,15]\n",
    "y=[5,7,11,13,17,23,33]\n",
    "avg_x=sum(x)/len(x)\n",
    "avg_y=sum(y)/len(y)\n",
    "print(avg_x)\n",
    "print(avg_y)\n"
   ]
  },
  {
   "cell_type": "code",
   "execution_count": 2,
   "id": "4d23b247",
   "metadata": {},
   "outputs": [
    {
     "name": "stdout",
     "output_type": "stream",
     "text": [
      "True\n",
      "True\n"
     ]
    }
   ],
   "source": [
    "a=[1,2,3]\n",
    "b=[1,2,3]\n",
    "print(a == b)\n",
    "print(b == a)"
   ]
  },
  {
   "cell_type": "code",
   "execution_count": 4,
   "id": "3364933b",
   "metadata": {},
   "outputs": [
    {
     "data": {
      "text/plain": [
       "'C:\\\\Users\\\\User\\\\projectanoconda'"
      ]
     },
     "execution_count": 4,
     "metadata": {},
     "output_type": "execute_result"
    }
   ],
   "source": [
    "pwd"
   ]
  },
  {
   "cell_type": "code",
   "execution_count": null,
   "id": "117784aa",
   "metadata": {},
   "outputs": [],
   "source": []
  }
 ],
 "metadata": {
  "kernelspec": {
   "display_name": "Python 3 (ipykernel)",
   "language": "python",
   "name": "python3"
  },
  "language_info": {
   "codemirror_mode": {
    "name": "ipython",
    "version": 3
   },
   "file_extension": ".py",
   "mimetype": "text/x-python",
   "name": "python",
   "nbconvert_exporter": "python",
   "pygments_lexer": "ipython3",
   "version": "3.11.5"
  }
 },
 "nbformat": 4,
 "nbformat_minor": 5
}
