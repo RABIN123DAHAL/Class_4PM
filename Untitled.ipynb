{
 "cells": [
  {
   "cell_type": "code",
   "execution_count": 1,
   "id": "338d0102",
   "metadata": {},
   "outputs": [
    {
     "name": "stdout",
     "output_type": "stream",
     "text": [
      "Requirement already satisfied: mysql-connector-python in c:\\users\\user\\anaconda3\\lib\\site-packages (8.2.0)\n",
      "Requirement already satisfied: protobuf<=4.21.12,>=4.21.1 in c:\\users\\user\\anaconda3\\lib\\site-packages (from mysql-connector-python) (4.21.12)\n"
     ]
    }
   ],
   "source": [
    "!pip install mysql-connector-python"
   ]
  },
  {
   "cell_type": "code",
   "execution_count": 6,
   "id": "b690006b",
   "metadata": {},
   "outputs": [],
   "source": [
    "import mysql.connector\n",
    "#importing database\n",
    "database = mysql.connector.connect(\n",
    "host=\"localhost\",\n",
    "user=\"root\",\n",
    "password=\"\",\n",
    "database = \"python_4PM\"\n",
    ")\n",
    "db = database.cursor()"
   ]
  },
  {
   "cell_type": "code",
   "execution_count": 7,
   "id": "e52f778d",
   "metadata": {},
   "outputs": [
    {
     "name": "stdout",
     "output_type": "stream",
     "text": [
      "[(1, 'Aditya', 70, 80, 85, 70, 305, 77.0, 'b+'), (2, 'Rabin', 80, 85, 85, 90, 340, 85.0, 'A+')]\n"
     ]
    }
   ],
   "source": [
    "#Read data form database\n",
    "sql=\"SELECT * from student\"\n",
    "db.execute(sql)\n",
    "result = db.fetchall()\n",
    "print(result)"
   ]
  },
  {
   "cell_type": "code",
   "execution_count": 13,
   "id": "9437e9e8",
   "metadata": {},
   "outputs": [
    {
     "name": "stdout",
     "output_type": "stream",
     "text": [
      "[(1, 'Aditya'), (2, 'Rabin')]\n"
     ]
    }
   ],
   "source": [
    "sql=\"SELECT SN,Name from student\"\n",
    "db.execute(sql)\n",
    "result = db.fetchall()\n",
    "print(result)"
   ]
  },
  {
   "cell_type": "code",
   "execution_count": 15,
   "id": "6aa31c47",
   "metadata": {},
   "outputs": [
    {
     "name": "stdout",
     "output_type": "stream",
     "text": [
      "[(2, 'Rabin', 80, 85, 85, 90, 340, 85.0, 'A+')]\n"
     ]
    }
   ],
   "source": [
    "sql=\"SELECT * from student WHERE grade='A+'\"\n",
    "db.execute(sql)\n",
    "result = db.fetchall()\n",
    "print(result)"
   ]
  },
  {
   "cell_type": "code",
   "execution_count": 20,
   "id": "c4197905",
   "metadata": {},
   "outputs": [],
   "source": [
    "sql='''INSERT INTO `student` (`SN`, `Name`, `Physics`, `Nepali`, `Math`, `English`, `Total`, `Per`, `Grade`) \n",
    "VALUES ('5', 'hero', '70', '77', '87', '88', '80', '80', 'A');'''\n",
    "db.execute(sql)\n",
    "database.commit()"
   ]
  },
  {
   "cell_type": "code",
   "execution_count": 21,
   "id": "8fb3a861",
   "metadata": {},
   "outputs": [],
   "source": [
    "#WAP to take input from user and insert it into database\n"
   ]
  },
  {
   "cell_type": "code",
   "execution_count": 23,
   "id": "bc766e6f",
   "metadata": {},
   "outputs": [],
   "source": [
    "#update\n",
    "sql=\"UPDATE student SET name='Adityagandu'WHERE name='Aditya'\"\n",
    "db.execute(sql)\n",
    "database.commit()"
   ]
  },
  {
   "cell_type": "code",
   "execution_count": 24,
   "id": "0fc8198f",
   "metadata": {},
   "outputs": [],
   "source": [
    "#Delete\n",
    "sql = \"DELETE FROM student WHERE SN =4\"\n",
    "db.execute(sql)\n",
    "database.commit()"
   ]
  },
  {
   "cell_type": "code",
   "execution_count": null,
   "id": "52729753",
   "metadata": {},
   "outputs": [],
   "source": []
  },
  {
   "cell_type": "code",
   "execution_count": null,
   "id": "97c979d7",
   "metadata": {},
   "outputs": [],
   "source": []
  }
 ],
 "metadata": {
  "kernelspec": {
   "display_name": "Python 3 (ipykernel)",
   "language": "python",
   "name": "python3"
  },
  "language_info": {
   "codemirror_mode": {
    "name": "ipython",
    "version": 3
   },
   "file_extension": ".py",
   "mimetype": "text/x-python",
   "name": "python",
   "nbconvert_exporter": "python",
   "pygments_lexer": "ipython3",
   "version": "3.11.5"
  }
 },
 "nbformat": 4,
 "nbformat_minor": 5
}
